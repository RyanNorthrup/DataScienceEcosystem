{
 "cells": [
  {
   "cell_type": "markdown",
   "id": "331d64a0-1f3c-45cd-8eae-90f2e99d908a",
   "metadata": {},
   "source": [
    "# Data Science Tools and Ecosystem"
   ]
  },
  {
   "cell_type": "markdown",
   "id": "cde448a5-3555-40b1-b735-ee48b24d0a15",
   "metadata": {},
   "source": [
    "In this notebook, Data Science Tools and Ecosystem are summarized."
   ]
  },
  {
   "cell_type": "markdown",
   "id": "5b5fbc46-cbb1-465e-a621-19ff9625c348",
   "metadata": {},
   "source": [
    "__Objectives:__\n",
    "\n",
    "- List of popular languages for Data Science.\n",
    "- List of commonly used libraries in Data Science.\n",
    "- Creating a code cell to multiply and add numbers."
   ]
  },
  {
   "cell_type": "markdown",
   "id": "103486e4-0bcb-4780-8f77-16fc72421b2e",
   "metadata": {},
   "source": [
    "Some of the popular languages that Data Scientists use are:\n",
    "\n",
    "1. Python\n",
    "2. R\n",
    "3. Julia"
   ]
  },
  {
   "cell_type": "markdown",
   "id": "87ff0b3e-d01a-4249-a66b-47a07bc08612",
   "metadata": {},
   "source": [
    "Some of the commonly used libraries used by Data Scientists include:\n",
    "    \n",
    "1. Matplotlib\n",
    "2. Pandas\n",
    "3. NumPy"
   ]
  },
  {
   "cell_type": "markdown",
   "id": "3179951f-b7eb-4ae8-861c-3b7b8fecc713",
   "metadata": {},
   "source": [
    "|Data Science Tools  |\n",
    "|--------------------|\n",
    "|RStudio             |\n",
    "|Apache Spark        |\n",
    "|TensorFlow          |"
   ]
  },
  {
   "cell_type": "markdown",
   "id": "98af576b-238a-484b-9dd6-e813496fe020",
   "metadata": {},
   "source": [
    "### Below are a few examples of evaluating arithmetic expressions in Python"
   ]
  },
  {
   "cell_type": "code",
   "execution_count": 1,
   "id": "d392e25f-e6fa-4497-85d7-359f228cf88e",
   "metadata": {
    "tags": []
   },
   "outputs": [
    {
     "data": {
      "text/plain": [
       "17"
      ]
     },
     "execution_count": 1,
     "metadata": {},
     "output_type": "execute_result"
    }
   ],
   "source": [
    "(3*4)+5\n",
    "\n",
    "# This is a simple arithmetic expression to multiply then add intergers"
   ]
  },
  {
   "cell_type": "code",
   "execution_count": 2,
   "id": "8f3c28a8-7fea-4b62-9d40-5c5bfe603e3e",
   "metadata": {
    "tags": []
   },
   "outputs": [
    {
     "data": {
      "text/plain": [
       "3.3333333333333335"
      ]
     },
     "execution_count": 2,
     "metadata": {},
     "output_type": "execute_result"
    }
   ],
   "source": [
    "# This will convert 200 minutes to hours by dividing by 60\n",
    "\n",
    "200/60"
   ]
  },
  {
   "cell_type": "markdown",
   "id": "325f4bf6-70a1-43fa-ad8d-08f90a8c6e58",
   "metadata": {},
   "source": [
    "## Author\n",
    "Ryan Northrup"
   ]
  }
 ],
 "metadata": {
  "kernelspec": {
   "display_name": "Python",
   "language": "python",
   "name": "conda-env-python-py"
  },
  "language_info": {
   "codemirror_mode": {
    "name": "ipython",
    "version": 3
   },
   "file_extension": ".py",
   "mimetype": "text/x-python",
   "name": "python",
   "nbconvert_exporter": "python",
   "pygments_lexer": "ipython3",
   "version": "3.7.12"
  }
 },
 "nbformat": 4,
 "nbformat_minor": 5
}
